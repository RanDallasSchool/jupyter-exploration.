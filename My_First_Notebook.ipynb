{
 "cells": [
  {
   "cell_type": "markdown",
   "id": "37b760e1-e0f2-4289-bbc8-b1c1c940192b",
   "metadata": {},
   "source": [
    "First Markdown Cell"
   ]
  },
  {
   "cell_type": "code",
   "execution_count": 1,
   "id": "7f0da0c0-c59d-4b5e-bc4e-54e37098e6ba",
   "metadata": {},
   "outputs": [
    {
     "name": "stdout",
     "output_type": "stream",
     "text": [
      "Hello Jupyter!\n"
     ]
    }
   ],
   "source": [
    "print(\"Hello Jupyter!\")"
   ]
  }
 ],
 "metadata": {
  "kernelspec": {
   "display_name": "Python 3 (ipykernel)",
   "language": "python",
   "name": "python3"
  },
  "language_info": {
   "codemirror_mode": {
    "name": "ipython",
    "version": 3
   },
   "file_extension": ".py",
   "mimetype": "text/x-python",
   "name": "python",
   "nbconvert_exporter": "python",
   "pygments_lexer": "ipython3",
   "version": "3.12.6"
  }
 },
 "nbformat": 4,
 "nbformat_minor": 5
}
